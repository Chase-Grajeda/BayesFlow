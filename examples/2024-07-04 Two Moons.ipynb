{
 "cells": [
  {
   "metadata": {},
   "cell_type": "code",
   "source": [
    "import os\n",
    "os.environ[\"KERAS_BACKEND\"] = \"torch\""
   ],
   "id": "bd762a0c418ac495",
   "outputs": [],
   "execution_count": null
  },
  {
   "metadata": {},
   "cell_type": "code",
   "source": [
    "import keras\n",
    "\n",
    "if keras.backend.backend() == \"torch\":\n",
    "    import torch\n",
    "    torch.autograd.set_grad_enabled(False)"
   ],
   "id": "4731ae2a5a9cb1d1",
   "outputs": [],
   "execution_count": null
  },
  {
   "cell_type": "code",
   "id": "initial_id",
   "metadata": {
    "collapsed": true
   },
   "source": [
    "import bayesflow as bf\n",
    "import matplotlib.pyplot as plt\n",
    "import seaborn as sns"
   ],
   "outputs": [],
   "execution_count": null
  },
  {
   "metadata": {},
   "cell_type": "code",
   "source": [
    "simulator = bf.simulators.TwoMoonsSimulator()\n",
    "samples = simulator.sample((1024,))\n",
    "dataset = bf.datasets.OfflineDataset(samples, batch_size=256)"
   ],
   "id": "e3eb7a82097c2f13",
   "outputs": [],
   "execution_count": null
  },
  {
   "metadata": {},
   "cell_type": "code",
   "source": [
    "approximator = bf.Approximator(\n",
    "    inference_network=bf.networks.FlowMatching(),\n",
    "    inference_variables=[\"theta\"],\n",
    "    inference_conditions=[\"x\"],\n",
    ")"
   ],
   "id": "f6a91e86042cd61e",
   "outputs": [],
   "execution_count": null
  },
  {
   "metadata": {},
   "cell_type": "code",
   "source": "approximator.compile(optimizer=\"AdamW\")",
   "id": "87b2d9a950356d3d",
   "outputs": [],
   "execution_count": null
  },
  {
   "metadata": {},
   "cell_type": "code",
   "source": "approximator.fit(dataset, epochs=100)",
   "id": "de25136230318646",
   "outputs": [],
   "execution_count": null
  },
  {
   "metadata": {},
   "cell_type": "code",
   "source": [
    "data = {\"x\": keras.ops.zeros((256, 2))}\n",
    "samples = approximator.sample(256, data=data)"
   ],
   "id": "4057fe23a322b509",
   "outputs": [],
   "execution_count": null
  },
  {
   "metadata": {},
   "cell_type": "code",
   "source": "samples = {\"theta1\": samples[\"theta\"][:, 0], \"theta2\": samples[\"theta\"][:, 1]}",
   "id": "d274f2877d420388",
   "outputs": [],
   "execution_count": null
  },
  {
   "metadata": {},
   "cell_type": "code",
   "source": [
    "sns.scatterplot(samples, x=\"theta1\", y=\"theta2\")\n",
    "plt.show()"
   ],
   "id": "c26e1ad124dc8a7a",
   "outputs": [],
   "execution_count": null
  }
 ],
 "metadata": {
  "kernelspec": {
   "display_name": "Python 3",
   "language": "python",
   "name": "python3"
  },
  "language_info": {
   "codemirror_mode": {
    "name": "ipython",
    "version": 2
   },
   "file_extension": ".py",
   "mimetype": "text/x-python",
   "name": "python",
   "nbconvert_exporter": "python",
   "pygments_lexer": "ipython2",
   "version": "2.7.6"
  }
 },
 "nbformat": 4,
 "nbformat_minor": 5
}
