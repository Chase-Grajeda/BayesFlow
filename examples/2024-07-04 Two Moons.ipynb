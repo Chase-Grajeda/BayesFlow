{
 "cells": [
  {
   "metadata": {},
   "cell_type": "code",
   "source": [
    "import os\n",
    "os.environ[\"KERAS_BACKEND\"] = \"torch\""
   ],
   "id": "bd762a0c418ac495",
   "outputs": [],
   "execution_count": null
  },
  {
   "metadata": {},
   "cell_type": "code",
   "source": [
    "import keras\n",
    "\n",
    "if keras.backend.backend() == \"torch\":\n",
    "    import torch\n",
    "    torch.autograd.set_grad_enabled(False)"
   ],
   "id": "4731ae2a5a9cb1d1",
   "outputs": [],
   "execution_count": null
  },
  {
   "cell_type": "code",
   "id": "initial_id",
   "metadata": {
    "collapsed": true
   },
   "source": [
    "import bayesflow as bf\n",
    "import matplotlib.pyplot as plt\n",
    "import seaborn as sns"
   ],
   "outputs": [],
   "execution_count": null
  },
  {
   "metadata": {},
   "cell_type": "code",
   "source": [
    "epochs = 64\n",
    "steps_per_epoch = 128\n",
    "batch_size = 256"
   ],
   "id": "21c91fd2141e6c3a",
   "outputs": [],
   "execution_count": null
  },
  {
   "metadata": {},
   "cell_type": "code",
   "source": [
    "simulator = bf.simulators.TwoMoonsSimulator()\n",
    "dataset = bf.datasets.OnlineDataset(simulator, batch_size=batch_size)"
   ],
   "id": "e3eb7a82097c2f13",
   "outputs": [],
   "execution_count": null
  },
  {
   "metadata": {},
   "cell_type": "markdown",
   "source": "Visualize the target distribution with rejection sampling:",
   "id": "6030f00a706aa85b"
  },
  {
   "metadata": {},
   "cell_type": "code",
   "source": [
    "# rejection sample returns at least the requested number of samples\n",
    "samples = simulator.rejection_sample((1024,), lambda s: keras.ops.norm(s[\"x\"], axis=-1) < 0.01, numpy=True)\n",
    "\n",
    "keras.ops.shape(samples[\"x\"])"
   ],
   "id": "a7156ea11147a95a",
   "outputs": [],
   "execution_count": null
  },
  {
   "metadata": {},
   "cell_type": "code",
   "source": "samples = {\"x\": samples[\"theta\"][:, 0], \"y\": samples[\"theta\"][:, 1]}",
   "id": "1f963e4bba876cc",
   "outputs": [],
   "execution_count": null
  },
  {
   "metadata": {},
   "cell_type": "code",
   "source": "samples = {key: keras.ops.convert_to_numpy(value) for key, value in samples.items()}",
   "id": "f6ba1f75e6b06833",
   "outputs": [],
   "execution_count": null
  },
  {
   "metadata": {},
   "cell_type": "code",
   "source": [
    "sns.scatterplot(samples, x=\"x\", y=\"y\", size=1, alpha=0.25, lw=0, legend=False)\n",
    "plt.xlim((-0.5, 0.5))\n",
    "plt.ylim((-0.5, 0.5))\n",
    "plt.gca().set_aspect(\"equal\")\n",
    "plt.xlabel(r\"$\\theta_1$\")\n",
    "plt.ylabel(r\"$\\theta_2$\")\n",
    "plt.title(\"Target Samples\")\n",
    "plt.show()"
   ],
   "id": "3d05f34a6c58e922",
   "outputs": [],
   "execution_count": null
  },
  {
   "metadata": {},
   "cell_type": "code",
   "source": [
    "inference_network = bf.networks.CouplingFlow()\n",
    "# inference_network = bf.networks.FlowMatching(subnet=\"resnet\")"
   ],
   "id": "a8203755e43ffb4",
   "outputs": [],
   "execution_count": null
  },
  {
   "metadata": {},
   "cell_type": "code",
   "source": [
    "approximator = bf.Approximator(\n",
    "    inference_network=inference_network,\n",
    "    inference_variables=[\"theta\", \"r\", \"alpha\"],\n",
    "    inference_conditions=[\"x\"],\n",
    ")"
   ],
   "id": "f6a91e86042cd61e",
   "outputs": [],
   "execution_count": null
  },
  {
   "metadata": {},
   "cell_type": "code",
   "source": "learning_rate = 1e-4",
   "id": "a0aabab0da16a563",
   "outputs": [],
   "execution_count": null
  },
  {
   "metadata": {},
   "cell_type": "code",
   "source": "optimizer = keras.optimizers.AdamW(learning_rate=learning_rate, weight_decay=0.0)",
   "id": "c6ce8bd1d7d550c0",
   "outputs": [],
   "execution_count": null
  },
  {
   "metadata": {},
   "cell_type": "code",
   "source": "approximator.compile(optimizer=optimizer)",
   "id": "87b2d9a950356d3d",
   "outputs": [],
   "execution_count": null
  },
  {
   "metadata": {},
   "cell_type": "code",
   "source": "fit_history = approximator.fit(dataset, epochs=epochs, steps_per_epoch=steps_per_epoch)",
   "id": "de25136230318646",
   "outputs": [],
   "execution_count": null
  },
  {
   "metadata": {},
   "cell_type": "code",
   "source": [
    "metrics_history = fit_history.history\n",
    "loss_history = metrics_history[\"loss\"]"
   ],
   "id": "5c3b5696bf2c06b9",
   "outputs": [],
   "execution_count": null
  },
  {
   "metadata": {},
   "cell_type": "code",
   "source": [
    "sns.lineplot(loss_history)\n",
    "plt.xlabel(\"Epoch\")\n",
    "plt.ylabel(\"Loss\")"
   ],
   "id": "c0ad5fa45249eec1",
   "outputs": [],
   "execution_count": null
  },
  {
   "metadata": {},
   "cell_type": "code",
   "source": [
    "data = {\"x\": keras.ops.zeros((256, 2))}\n",
    "samples = approximator.sample(256, data=data, numpy=True)"
   ],
   "id": "4057fe23a322b509",
   "outputs": [],
   "execution_count": null
  },
  {
   "metadata": {},
   "cell_type": "code",
   "source": "samples = {\"x\": samples[\"theta\"][:, 0], \"y\": samples[\"theta\"][:, 1]}",
   "id": "d274f2877d420388",
   "outputs": [],
   "execution_count": null
  },
  {
   "metadata": {},
   "cell_type": "code",
   "source": [
    "sns.scatterplot(samples, x=\"x\", y=\"y\", size=1, alpha=0.25, lw=0, legend=False)\n",
    "plt.xlim((-0.5, 0.5))\n",
    "plt.ylim((-0.5, 0.5))\n",
    "plt.gca().set_aspect(\"equal\")\n",
    "plt.xlabel(r\"$\\theta_1$\")\n",
    "plt.ylabel(r\"$\\theta_2$\")\n",
    "plt.title(\"Learned Samples\")\n",
    "plt.show()"
   ],
   "id": "16b5b51910343310",
   "outputs": [],
   "execution_count": null
  },
  {
   "metadata": {},
   "cell_type": "code",
   "source": "",
   "id": "a8ee53e0bce008c0",
   "outputs": [],
   "execution_count": null
  }
 ],
 "metadata": {
  "kernelspec": {
   "display_name": "Python 3",
   "language": "python",
   "name": "python3"
  },
  "language_info": {
   "codemirror_mode": {
    "name": "ipython",
    "version": 2
   },
   "file_extension": ".py",
   "mimetype": "text/x-python",
   "name": "python",
   "nbconvert_exporter": "python",
   "pygments_lexer": "ipython2",
   "version": "2.7.6"
  }
 },
 "nbformat": 4,
 "nbformat_minor": 5
}
