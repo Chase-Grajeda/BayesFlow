{
 "cells": [
  {
   "metadata": {
    "ExecuteTime": {
     "end_time": "2024-04-17T16:42:43.381543Z",
     "start_time": "2024-04-17T16:42:43.378039Z"
    }
   },
   "cell_type": "code",
   "source": [
    "import os\n",
    "# \"jax\", \"tensorflow\", or \"torch\"\n",
    "os.environ[\"KERAS_BACKEND\"] = \"tensorflow\""
   ],
   "id": "b8761dfa1aeba0e0",
   "outputs": [],
   "execution_count": 1
  },
  {
   "cell_type": "code",
   "id": "initial_id",
   "metadata": {
    "collapsed": true,
    "ExecuteTime": {
     "end_time": "2024-04-17T16:42:46.010801Z",
     "start_time": "2024-04-17T16:42:43.382172Z"
    }
   },
   "source": [
    "import keras\n",
    "import tensorflow as tf\n",
    "import tensorflow.experimental.numpy as np\n",
    "\n",
    "import bayesflow.experimental as bf"
   ],
   "outputs": [
    {
     "name": "stderr",
     "output_type": "stream",
     "text": [
      "2024-04-17 18:42:43.648581: I tensorflow/core/util/port.cc:153] oneDNN custom operations are on. You may see slightly different numerical results due to floating-point round-off errors from different computation orders. To turn them off, set the environment variable `TF_ENABLE_ONEDNN_OPTS=0`.\n",
      "2024-04-17 18:42:43.649086: I external/local_xla/xla/tsl/cuda/cudart_stub.cc:32] Could not find cuda drivers on your machine, GPU will not be used.\n",
      "2024-04-17 18:42:43.651679: I external/local_xla/xla/tsl/cuda/cudart_stub.cc:32] Could not find cuda drivers on your machine, GPU will not be used.\n",
      "2024-04-17 18:42:43.682981: I tensorflow/core/platform/cpu_feature_guard.cc:210] This TensorFlow binary is optimized to use available CPU instructions in performance-critical operations.\n",
      "To enable the following instructions: AVX2 AVX512F AVX512_VNNI AVX512_BF16 FMA, in other operations, rebuild TensorFlow with the appropriate compiler flags.\n",
      "2024-04-17 18:42:44.306816: W tensorflow/compiler/tf2tensorrt/utils/py_utils.cc:38] TF-TRT Warning: Could not find TensorRT\n",
      "/home/lars/code/python/bayesflow/bayesflow/trainers.py:27: TqdmExperimentalWarning: Using `tqdm.autonotebook.tqdm` in notebook mode. Use `tqdm.tqdm` instead to force console mode (e.g. in jupyter console)\n",
      "  from tqdm.autonotebook import tqdm\n"
     ]
    }
   ],
   "execution_count": 2
  },
  {
   "metadata": {
    "ExecuteTime": {
     "end_time": "2024-04-17T16:42:46.013843Z",
     "start_time": "2024-04-17T16:42:46.011437Z"
    }
   },
   "cell_type": "code",
   "source": [
    "@bf.distribution\n",
    "def two_moons_context():\n",
    "    r = 0.1 + 0.01 * np.random.standard_normal(size=(1,))\n",
    "    alpha = np.random.uniform(-0.5 * np.pi, 0.5 * np.pi, size=(1,))\n",
    "    return dict(r=r, alpha=alpha)"
   ],
   "id": "7a7a097d36ca9369",
   "outputs": [],
   "execution_count": 3
  },
  {
   "metadata": {
    "ExecuteTime": {
     "end_time": "2024-04-17T16:42:46.024368Z",
     "start_time": "2024-04-17T16:42:46.015486Z"
    }
   },
   "cell_type": "code",
   "source": [
    "@bf.distribution\n",
    "def two_moons_prior():\n",
    "    theta = np.random.uniform(-1.0, 1.0, size=(2,))\n",
    "    return dict(theta=theta)"
   ],
   "id": "fe1a140bf4fdb5bb",
   "outputs": [],
   "execution_count": 4
  },
  {
   "metadata": {
    "ExecuteTime": {
     "end_time": "2024-04-17T16:42:46.027249Z",
     "start_time": "2024-04-17T16:42:46.025058Z"
    }
   },
   "cell_type": "code",
   "source": [
    "@bf.distribution\n",
    "def two_moons_likelihood(r, alpha, theta):\n",
    "    x1 = -np.abs(theta[0] + theta[1]) / np.sqrt(2.0) + r * np.cos(alpha) + 0.25\n",
    "    x2 = (-theta[0] + theta[1]) / np.sqrt(2.0) + r * np.sin(alpha)\n",
    "    return dict(x=np.concatenate([x1, x2], axis=0))"
   ],
   "id": "f923a53c42eb5870",
   "outputs": [],
   "execution_count": 5
  },
  {
   "metadata": {
    "ExecuteTime": {
     "end_time": "2024-04-17T16:42:46.029315Z",
     "start_time": "2024-04-17T16:42:46.027773Z"
    }
   },
   "cell_type": "code",
   "source": [
    "generative_model = bf.GenerativeModel(\n",
    "    local_context=two_moons_context,\n",
    "    global_context=None,\n",
    "    prior=two_moons_prior,\n",
    "    likelihood=two_moons_likelihood,\n",
    ")"
   ],
   "id": "13b798ac17b1b4f6",
   "outputs": [],
   "execution_count": 6
  },
  {
   "metadata": {
    "ExecuteTime": {
     "end_time": "2024-04-17T16:42:46.031483Z",
     "start_time": "2024-04-17T16:42:46.029772Z"
    }
   },
   "cell_type": "code",
   "source": [
    "# pass batch size and steps per epoch here for now\n",
    "# support this issue to fix that and move these to posterior.fit()\n",
    "# https://github.com/keras-team/keras/issues/19528\n",
    "train_dataset = bf.datasets.OnlineDataset(\n",
    "    generative_model,\n",
    "    batch_size=64,\n",
    "    steps_per_epoch=100,\n",
    "    workers=8,\n",
    "    use_multiprocessing=True,\n",
    ")\n",
    "validation_dataset = bf.datasets.OnlineDataset(\n",
    "    generative_model,\n",
    "    batch_size=64,\n",
    "    steps_per_epoch=10,\n",
    "    workers=8,\n",
    "    use_multiprocessing=True,\n",
    ")"
   ],
   "id": "6c441725aed2cd59",
   "outputs": [],
   "execution_count": 7
  },
  {
   "metadata": {
    "ExecuteTime": {
     "end_time": "2024-04-17T16:42:46.034419Z",
     "start_time": "2024-04-17T16:42:46.031918Z"
    }
   },
   "cell_type": "code",
   "source": [
    "class Subnet(keras.Layer):\n",
    "    def __init__(self, in_features, out_features):\n",
    "        super().__init__()\n",
    "        self.in_features = in_features\n",
    "        self.out_features = out_features\n",
    "        \n",
    "        self.network = keras.Sequential([\n",
    "            keras.layers.Input(shape=(in_features,)),\n",
    "            keras.layers.Dense(512, activation=\"relu\"),\n",
    "            keras.layers.Dense(2 * out_features),\n",
    "        ])\n",
    "        \n",
    "    def call(self, x):\n",
    "        parameters = self.network(x)\n",
    "        scale, shift = tf.split(parameters, 2, axis=1)\n",
    "        return dict(scale=scale, shift=shift)"
   ],
   "id": "bf3218e85f5a2c39",
   "outputs": [],
   "execution_count": 8
  },
  {
   "metadata": {
    "ExecuteTime": {
     "end_time": "2024-04-17T16:42:46.144878Z",
     "start_time": "2024-04-17T16:42:46.034922Z"
    }
   },
   "cell_type": "code",
   "source": [
    "# use a sequential coupling flow\n",
    "# method name is subject to change\n",
    "# we will allow to use the default BayesFlow networks in the future\n",
    "inference_network = bf.networks.CouplingFlow.uniform(\n",
    "    subnet_constructor=Subnet,\n",
    "    # 2 parameters\n",
    "    features=2,\n",
    "    # 2 observables that we condition on\n",
    "    conditions=2,\n",
    "    layers=4,\n",
    "    transform=\"affine\",\n",
    "    base_distribution=\"normal\",\n",
    ")"
   ],
   "id": "5614f8e784c5d114",
   "outputs": [],
   "execution_count": 9
  },
  {
   "metadata": {
    "ExecuteTime": {
     "end_time": "2024-04-17T16:42:46.148285Z",
     "start_time": "2024-04-17T16:42:46.145954Z"
    }
   },
   "cell_type": "code",
   "source": "posterior = bf.AmortizedPosterior(inference_network=inference_network)",
   "id": "21bf882a3bd74d59",
   "outputs": [],
   "execution_count": 10
  },
  {
   "metadata": {
    "ExecuteTime": {
     "end_time": "2024-04-17T16:42:46.158295Z",
     "start_time": "2024-04-17T16:42:46.148822Z"
    }
   },
   "cell_type": "code",
   "source": "optimizer = keras.optimizers.AdamW(learning_rate=1e-3, weight_decay=0.01)",
   "id": "f130a68e9c1e37fa",
   "outputs": [],
   "execution_count": 11
  },
  {
   "metadata": {
    "ExecuteTime": {
     "end_time": "2024-04-17T16:42:46.162561Z",
     "start_time": "2024-04-17T16:42:46.158966Z"
    }
   },
   "cell_type": "code",
   "source": "posterior.compile(optimizer)",
   "id": "afdf491e94d8a0b",
   "outputs": [],
   "execution_count": 12
  },
  {
   "metadata": {
    "ExecuteTime": {
     "end_time": "2024-04-17T16:42:46.164827Z",
     "start_time": "2024-04-17T16:42:46.163067Z"
    }
   },
   "cell_type": "code",
   "source": [
    "callbacks = [\n",
    "    # track losses and metrics in TensorBoard\n",
    "    keras.callbacks.TensorBoard()\n",
    "]"
   ],
   "id": "3ac5a9b644ddfd0e",
   "outputs": [],
   "execution_count": 13
  },
  {
   "metadata": {
    "ExecuteTime": {
     "start_time": "2024-04-17T16:42:46.165534Z"
    }
   },
   "cell_type": "code",
   "source": "posterior.fit(train_dataset, validation_data=validation_dataset, epochs=100, callbacks=callbacks)",
   "id": "9f68ac236137659f",
   "outputs": [
    {
     "name": "stdout",
     "output_type": "stream",
     "text": [
      "WARNING:tensorflow:5 out of the last 5 calls to <function pfor.<locals>.f at 0x793b8428ab60> triggered tf.function retracing. Tracing is expensive and the excessive number of tracings could be due to (1) creating @tf.function repeatedly in a loop, (2) passing tensors with different shapes, (3) passing Python objects instead of tensors. For (1), please define your @tf.function outside of the loop. For (2), @tf.function has reduce_retracing=True option that can avoid unnecessary retracing. For (3), please refer to https://www.tensorflow.org/guide/function#controlling_retracing and https://www.tensorflow.org/api_docs/python/tf/function for  more details.\n"
     ]
    },
    {
     "name": "stderr",
     "output_type": "stream",
     "text": [
      "WARNING:tensorflow:5 out of the last 5 calls to <function pfor.<locals>.f at 0x793b8428ab60> triggered tf.function retracing. Tracing is expensive and the excessive number of tracings could be due to (1) creating @tf.function repeatedly in a loop, (2) passing tensors with different shapes, (3) passing Python objects instead of tensors. For (1), please define your @tf.function outside of the loop. For (2), @tf.function has reduce_retracing=True option that can avoid unnecessary retracing. For (3), please refer to https://www.tensorflow.org/guide/function#controlling_retracing and https://www.tensorflow.org/api_docs/python/tf/function for  more details.\n"
     ]
    },
    {
     "name": "stdout",
     "output_type": "stream",
     "text": [
      "WARNING:tensorflow:6 out of the last 6 calls to <function pfor.<locals>.f at 0x793b8428b1a0> triggered tf.function retracing. Tracing is expensive and the excessive number of tracings could be due to (1) creating @tf.function repeatedly in a loop, (2) passing tensors with different shapes, (3) passing Python objects instead of tensors. For (1), please define your @tf.function outside of the loop. For (2), @tf.function has reduce_retracing=True option that can avoid unnecessary retracing. For (3), please refer to https://www.tensorflow.org/guide/function#controlling_retracing and https://www.tensorflow.org/api_docs/python/tf/function for  more details.\n"
     ]
    },
    {
     "name": "stderr",
     "output_type": "stream",
     "text": [
      "WARNING:tensorflow:6 out of the last 6 calls to <function pfor.<locals>.f at 0x793b8428b1a0> triggered tf.function retracing. Tracing is expensive and the excessive number of tracings could be due to (1) creating @tf.function repeatedly in a loop, (2) passing tensors with different shapes, (3) passing Python objects instead of tensors. For (1), please define your @tf.function outside of the loop. For (2), @tf.function has reduce_retracing=True option that can avoid unnecessary retracing. For (3), please refer to https://www.tensorflow.org/guide/function#controlling_retracing and https://www.tensorflow.org/api_docs/python/tf/function for  more details.\n"
     ]
    },
    {
     "name": "stdout",
     "output_type": "stream",
     "text": [
      "Epoch 1/100\n"
     ]
    }
   ],
   "execution_count": null
  },
  {
   "metadata": {},
   "cell_type": "code",
   "source": "bf.diagnostics.show_posterior(posterior=posterior)",
   "id": "c4ae70791163ac91",
   "outputs": [],
   "execution_count": null
  }
 ],
 "metadata": {
  "kernelspec": {
   "display_name": "Python 3",
   "language": "python",
   "name": "python3"
  },
  "language_info": {
   "codemirror_mode": {
    "name": "ipython",
    "version": 2
   },
   "file_extension": ".py",
   "mimetype": "text/x-python",
   "name": "python",
   "nbconvert_exporter": "python",
   "pygments_lexer": "ipython2",
   "version": "2.7.6"
  }
 },
 "nbformat": 4,
 "nbformat_minor": 5
}
