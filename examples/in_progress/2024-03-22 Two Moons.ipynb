{
 "cells": [
  {
   "cell_type": "code",
   "execution_count": null,
   "id": "ca8462b5be62a0a2",
   "metadata": {
    "collapsed": false
   },
   "outputs": [],
   "source": [
    "import os\n",
    "os.environ[\"KERAS_BACKEND\"] = \"tensorflow\""
   ]
  },
  {
   "cell_type": "code",
   "outputs": [],
   "source": [
    "import keras\n",
    "import tensorflow as tf\n",
    "import bayesflow.experimental as bf\n",
    "import numpy as np\n",
    "import seaborn as sns\n",
    "import matplotlib.pyplot as plt"
   ],
   "metadata": {
    "collapsed": true
   },
   "id": "initial_id",
   "execution_count": 0
  },
  {
   "cell_type": "code",
   "outputs": [],
   "source": [
    "@bf.Prior()\n",
    "def context_prior():\n",
    "    r = np.random.normal(0.1, 0.01, size=1)\n",
    "    alpha = np.random.uniform(-0.5 * np.pi, 0.5 * np.pi, size=1)\n",
    "    \n",
    "    return {\"r\": r, \"alpha\": alpha}"
   ],
   "metadata": {
    "collapsed": false
   },
   "id": "8342302b790f2b56"
  },
  {
   "cell_type": "code",
   "outputs": [],
   "source": [
    "@bf.Prior()\n",
    "def prior():\n",
    "    theta = np.random.uniform(-1.0, 1.0, size=2)\n",
    "    return {\"theta\": theta}"
   ],
   "metadata": {
    "collapsed": false
   },
   "id": "f53dac553d3ca8f1"
  },
  {
   "cell_type": "code",
   "outputs": [],
   "source": [
    "@bf.Likelihood(is_conditional=True)\n",
    "def simulator(r, alpha, theta):\n",
    "    x1 = -np.abs(theta[0] + theta[1]) / np.sqrt(2.0) + r * np.cos(alpha) + 0.25\n",
    "    x2 = (-theta[0] + theta[1]) / np.sqrt(2.0) + r * np.sin(alpha)\n",
    "    \n",
    "    return {\"x1\": x1, \"x2\": x2}"
   ],
   "metadata": {
    "collapsed": false
   },
   "id": "3a1f1d9d2b038d4c"
  },
  {
   "cell_type": "code",
   "outputs": [],
   "source": [
    "generative_model = bf.GenerativeModel(\n",
    "    context_prior=context_prior,  # TODO: static type?\n",
    "    prior=prior,\n",
    "    simulator=simulator\n",
    ")"
   ],
   "metadata": {
    "collapsed": false
   },
   "id": "aecefaf4f9dabc91"
  },
  {
   "cell_type": "code",
   "outputs": [],
   "source": [
    "dataset = bf.datasets.OnlineDataset(\n",
    "    generative_model,\n",
    "    batch_size=128,\n",
    "    workers=12,\n",
    "    use_multiprocessing=True\n",
    ")"
   ],
   "metadata": {
    "collapsed": false
   },
   "id": "e70fecb821998e0c"
  },
  {
   "cell_type": "code",
   "outputs": [],
   "source": [
    "inference_network = bf.CouplingFlow()"
   ],
   "metadata": {
    "collapsed": false
   },
   "id": "f72bfe8d53d06def"
  },
  {
   "cell_type": "code",
   "outputs": [],
   "source": [
    "model = bf.AmortizedPosterior(\n",
    "    inference_network=inference_network\n",
    ")"
   ],
   "metadata": {
    "collapsed": false
   },
   "id": "cb42169efa28624c"
  },
  {
   "cell_type": "code",
   "outputs": [],
   "source": [
    "model.fit(dataset, epochs=100)"
   ],
   "metadata": {
    "collapsed": false
   },
   "id": "233cc280e5d5d2f8"
  },
  {
   "cell_type": "code",
   "outputs": [],
   "source": [
    "samples = model.sample((128,))"
   ],
   "metadata": {
    "collapsed": false
   },
   "id": "b053aee61446dadf"
  },
  {
   "cell_type": "code",
   "outputs": [],
   "source": [
    "sns.scatterplot(samples)\n",
    "plt.show()"
   ],
   "metadata": {
    "collapsed": false
   },
   "id": "e38c321ffa3e0826"
  }
 ],
 "metadata": {
  "kernelspec": {
   "display_name": "Python 3",
   "language": "python",
   "name": "python3"
  },
  "language_info": {
   "codemirror_mode": {
    "name": "ipython",
    "version": 2
   },
   "file_extension": ".py",
   "mimetype": "text/x-python",
   "name": "python",
   "nbconvert_exporter": "python",
   "pygments_lexer": "ipython2",
   "version": "2.7.6"
  }
 },
 "nbformat": 4,
 "nbformat_minor": 5
}
