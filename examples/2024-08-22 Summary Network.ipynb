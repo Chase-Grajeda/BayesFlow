{
 "cells": [
  {
   "metadata": {},
   "cell_type": "code",
   "source": [
    "import os\n",
    "\n",
    "os.environ[\"KERAS_BACKEND\"] = \"torch\""
   ],
   "id": "411902f6c519f409",
   "outputs": [],
   "execution_count": null
  },
  {
   "metadata": {},
   "cell_type": "code",
   "source": [
    "import pathlib as pl\n",
    "\n",
    "working_directory = pl.Path(\"..\").resolve()\n",
    "working_directory"
   ],
   "id": "814e11c3dfd24d82",
   "outputs": [],
   "execution_count": null
  },
  {
   "metadata": {},
   "cell_type": "code",
   "source": [
    "import sys\n",
    "\n",
    "if str(working_directory) not in sys.path:\n",
    "    sys.path.append(str(working_directory))"
   ],
   "id": "f73796a8ecbac394",
   "outputs": [],
   "execution_count": null
  },
  {
   "metadata": {},
   "cell_type": "code",
   "source": [
    "import bayesflow as bf\n",
    "import keras\n",
    "import matplotlib.patches\n",
    "import matplotlib.pyplot as plt\n",
    "import numpy as np"
   ],
   "id": "bfc0882d87b608a3",
   "outputs": [],
   "execution_count": null
  },
  {
   "metadata": {},
   "cell_type": "code",
   "source": [
    "class GaussianSimulator(bf.simulators.Simulator):\n",
    "    def __init__(self, dim=2):\n",
    "        self.dim = dim\n",
    "    \n",
    "    def sample(self, batch_shape, num_obs=128):\n",
    "        mean = np.random.normal(0.0, 2.0, size=batch_shape + (self.dim,))\n",
    "        std = np.random.uniform(0.5, 2.0, size=batch_shape + (self.dim,)) \n",
    "        obs = np.random.normal(mean[:, None], std[:, None], size=batch_shape + (num_obs, self.dim))\n",
    "        \n",
    "        return dict(mean=mean, std=std, obs=obs)"
   ],
   "id": "1a18baf6f3e57215",
   "outputs": [],
   "execution_count": null
  },
  {
   "metadata": {},
   "cell_type": "code",
   "source": "simulator = GaussianSimulator()",
   "id": "87958ccdc5acebfe",
   "outputs": [],
   "execution_count": null
  },
  {
   "metadata": {},
   "cell_type": "code",
   "source": [
    "data_adapter = bf.ContinuousApproximator.build_data_adapter(\n",
    "    inference_variables=[\"mean\", \"std\"],\n",
    "    summary_variables=[\"obs\"]\n",
    ")"
   ],
   "id": "f4abbfba7541b9c2",
   "outputs": [],
   "execution_count": null
  },
  {
   "metadata": {},
   "cell_type": "code",
   "source": [
    "inference_network = bf.networks.FlowMatching(\n",
    "    subnet=\"mlp\",\n",
    "    subnet_kwargs=dict(\n",
    "        depth=4,\n",
    "        width=256,\n",
    "        dropout=None,\n",
    "        activation=\"relu\"\n",
    "    ),\n",
    ")"
   ],
   "id": "deb3d44e41937154",
   "outputs": [],
   "execution_count": null
  },
  {
   "metadata": {},
   "cell_type": "code",
   "source": [
    "summary_network = bf.networks.DeepSet(\n",
    "    summary_dim=32,\n",
    "    depth=2,\n",
    "    dropout=None,\n",
    "    activation=\"relu\",\n",
    ")"
   ],
   "id": "165b026be2620f38",
   "outputs": [],
   "execution_count": null
  },
  {
   "metadata": {},
   "cell_type": "code",
   "source": [
    "approximator = bf.ContinuousApproximator(\n",
    "    data_adapter=data_adapter,\n",
    "    inference_network=inference_network,\n",
    "    summary_network=summary_network,\n",
    ")"
   ],
   "id": "3d60388f9fc28b3e",
   "outputs": [],
   "execution_count": null
  },
  {
   "metadata": {},
   "cell_type": "code",
   "source": [
    "epochs = 32\n",
    "training_batches = 64\n",
    "validation_batches = 16\n",
    "batch_size = 128"
   ],
   "id": "8998ee8409c2ffaf",
   "outputs": [],
   "execution_count": null
  },
  {
   "metadata": {},
   "cell_type": "code",
   "source": [
    "learning_rate = keras.optimizers.schedules.CosineDecay(\n",
    "    initial_learning_rate=1e-4,\n",
    "    decay_steps=epochs * training_batches,\n",
    "    alpha=1e-3,\n",
    ")"
   ],
   "id": "9e5faae90a33a03",
   "outputs": [],
   "execution_count": null
  },
  {
   "metadata": {},
   "cell_type": "code",
   "source": [
    "optimizer = keras.optimizers.AdamW(\n",
    "    learning_rate=learning_rate,\n",
    "    clipnorm=1.0,\n",
    "    # use some weight decay since we train offline\n",
    "    weight_decay=0.01,\n",
    ")"
   ],
   "id": "e7d61a54af0230a5",
   "outputs": [],
   "execution_count": null
  },
  {
   "metadata": {},
   "cell_type": "code",
   "source": "approximator.compile(optimizer=optimizer)",
   "id": "7c1777490622f567",
   "outputs": [],
   "execution_count": null
  },
  {
   "metadata": {},
   "cell_type": "code",
   "source": [
    "training_data = simulator.sample((training_batches * batch_size,))\n",
    "validation_data = simulator.sample((validation_batches * batch_size,))"
   ],
   "id": "ce67d4492432e371",
   "outputs": [],
   "execution_count": null
  },
  {
   "metadata": {},
   "cell_type": "code",
   "source": [
    "training_dataset = bf.datasets.OfflineDataset(\n",
    "    batch_size=batch_size,\n",
    "    data=training_data,\n",
    "    data_adapter=data_adapter,\n",
    ")"
   ],
   "id": "5b1214898104aea9",
   "outputs": [],
   "execution_count": null
  },
  {
   "metadata": {},
   "cell_type": "code",
   "source": [
    "validation_dataset = bf.datasets.OfflineDataset(\n",
    "    batch_size=batch_size,\n",
    "    data=validation_data,\n",
    "    data_adapter=data_adapter,\n",
    ")"
   ],
   "id": "d12973c138681534",
   "outputs": [],
   "execution_count": null
  },
  {
   "metadata": {},
   "cell_type": "code",
   "source": [
    "approximator.fit(\n",
    "    batch_size=batch_size,\n",
    "    epochs=epochs,\n",
    "    dataset=training_dataset,\n",
    "    validation_data=validation_dataset,\n",
    ")"
   ],
   "id": "1a6edf0c3dbebf66",
   "outputs": [],
   "execution_count": null
  },
  {
   "metadata": {},
   "cell_type": "code",
   "source": [
    "# generate 16 samples, each with 1024 observations\n",
    "test_data = simulator.sample((16,), num_obs=1024)\n",
    "\n",
    "conditions = {\n",
    "    \"obs\": test_data[\"obs\"]\n",
    "}\n",
    "\n",
    "samples = approximator.sample(batch_shape=(16,), conditions=conditions)"
   ],
   "id": "6208c5ad5f6bdf80",
   "outputs": [],
   "execution_count": null
  },
  {
   "metadata": {},
   "cell_type": "code",
   "source": [
    "fig, axes = plt.subplots(4, 4, figsize=(16, 16))\n",
    "\n",
    "for i, ax in enumerate(axes.flat):\n",
    "    x, y = conditions[\"obs\"][i, :, 0:2].T\n",
    "    ax.scatter(x, y, s=5, color=\"black\", alpha=0.5, label=\"Samples\")\n",
    "    \n",
    "    # predictions in red\n",
    "    mean, std = samples[\"mean\"][i, 0:2], samples[\"std\"][i, 0:2]\n",
    "    ax.add_artist(matplotlib.patches.Ellipse(mean, 2 * std[0], 2 * std[1], color=\"red\", fill=False, ls=\":\", lw=3, label=\"Prediction\"))\n",
    "    \n",
    "    # true values in green\n",
    "    mean, std = test_data[\"mean\"][i, 0:2], test_data[\"std\"][i, 0:2]\n",
    "    ax.add_artist(matplotlib.patches.Ellipse(mean, 2 * std[0], 2 * std[1], color=\"green\", fill=False, ls=\"--\", lw=3, label=\"Ground Truth\"))\n",
    "    \n",
    "    ax.set_xlim(-5, 5)\n",
    "    ax.set_ylim(-5, 5)\n",
    "    ax.set_aspect(\"equal\", adjustable=\"box\")\n",
    "\n",
    "plt.legend(loc=\"lower right\")\n",
    "plt.show()"
   ],
   "id": "92755ef87fae628c",
   "outputs": [],
   "execution_count": null
  },
  {
   "metadata": {},
   "cell_type": "code",
   "source": "",
   "id": "8ec13de03538936e",
   "outputs": [],
   "execution_count": null
  }
 ],
 "metadata": {
  "kernelspec": {
   "display_name": "Python 3",
   "language": "python",
   "name": "python3"
  },
  "language_info": {
   "codemirror_mode": {
    "name": "ipython",
    "version": 2
   },
   "file_extension": ".py",
   "mimetype": "text/x-python",
   "name": "python",
   "nbconvert_exporter": "python",
   "pygments_lexer": "ipython2",
   "version": "2.7.6"
  }
 },
 "nbformat": 4,
 "nbformat_minor": 5
}
