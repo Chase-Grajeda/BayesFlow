{
 "cells": [
  {
   "cell_type": "code",
   "execution_count": 1,
   "metadata": {},
   "outputs": [],
   "source": [
    "import sys\n",
    "sys.path.append(\"../\")\n",
    "\n",
    "from bayesflow import Approximator\n",
    "from bayesflow import OfflineDataset\n",
    "from bayesflow.simulators import TwoMoonsSimulator\n",
    "from bayesflow.networks import CIF"
   ]
  },
  {
   "cell_type": "code",
   "execution_count": 2,
   "metadata": {},
   "outputs": [
    {
     "name": "stdout",
     "output_type": "stream",
     "text": [
      "Batch size: 128\n",
      "['r', 'alpha', 'theta', 'x']\n"
     ]
    }
   ],
   "source": [
    "batch_size = 128\n",
    "num_batches = 32\n",
    "\n",
    "simulator = TwoMoonsSimulator()\n",
    "data = simulator.sample((batch_size * num_batches,))\n",
    "dataset = OfflineDataset(data, workers=4, batch_size=batch_size)\n",
    "print(\"Batch size:\", dataset.batch_size)\n",
    "print([key for key in dataset[0].keys()])\n"
   ]
  },
  {
   "cell_type": "code",
   "execution_count": 3,
   "metadata": {},
   "outputs": [],
   "source": [
    "cif = CIF()\n",
    "approximator = Approximator(\n",
    "\tinference_network=cif,\n",
    "\tinference_variables=[\"theta\"],\n",
    "\tinference_conditions=[\"r\", \"alpha\", \"x\"]\n",
    ")\n",
    "approximator.compile(optimizer=\"adam\")\n",
    "approximator.build_from_data(next(iter(dataset)))"
   ]
  },
  {
   "cell_type": "code",
   "execution_count": 4,
   "metadata": {},
   "outputs": [
    {
     "name": "stdout",
     "output_type": "stream",
     "text": [
      "Epoch 1/5\n",
      "\u001b[1m32/32\u001b[0m \u001b[32m━━━━━━━━━━━━━━━━━━━━\u001b[0m\u001b[37m\u001b[0m \u001b[1m61s\u001b[0m 110ms/step - loss: nan\n",
      "Epoch 2/5\n",
      "\u001b[1m32/32\u001b[0m \u001b[32m━━━━━━━━━━━━━━━━━━━━\u001b[0m\u001b[37m\u001b[0m \u001b[1m3s\u001b[0m 100ms/step - loss: nan\n",
      "Epoch 3/5\n",
      "\u001b[1m32/32\u001b[0m \u001b[32m━━━━━━━━━━━━━━━━━━━━\u001b[0m\u001b[37m\u001b[0m \u001b[1m3s\u001b[0m 101ms/step - loss: nan\n",
      "Epoch 4/5\n",
      "\u001b[1m32/32\u001b[0m \u001b[32m━━━━━━━━━━━━━━━━━━━━\u001b[0m\u001b[37m\u001b[0m \u001b[1m3s\u001b[0m 96ms/step - loss: nan\n",
      "Epoch 5/5\n",
      "\u001b[1m32/32\u001b[0m \u001b[32m━━━━━━━━━━━━━━━━━━━━\u001b[0m\u001b[37m\u001b[0m \u001b[1m3s\u001b[0m 98ms/step - loss: nan\n"
     ]
    },
    {
     "data": {
      "text/plain": [
       "<keras.src.callbacks.history.History at 0x24c1a26ebd0>"
      ]
     },
     "execution_count": 4,
     "metadata": {},
     "output_type": "execute_result"
    }
   ],
   "source": [
    "approximator.fit(dataset, epochs=5)"
   ]
  },
  {
   "cell_type": "code",
   "execution_count": 5,
   "metadata": {},
   "outputs": [
    {
     "ename": "InvalidArgumentError",
     "evalue": "Exception encountered when calling SingleCoupling.call().\n\n\u001b[1m{{function_node __wrapped__ConcatV2_N_2_device_/job:localhost/replica:0/task:0/device:CPU:0}} ConcatOp : Ranks of all input tensors should match: shape[0] = [128,2,1] vs. shape[1] = [128,2,2,2] [Op:ConcatV2] name: concat\u001b[0m\n\nArguments received by SingleCoupling.call():\n  • x1=tf.Tensor(shape=(128, 2, 1), dtype=float32)\n  • x2=tf.Tensor(shape=(128, 2, 1), dtype=float32)\n  • conditions=tf.Tensor(shape=(128, 2, 2, 2), dtype=float32)\n  • inverse=True\n  • kwargs=<class 'inspect._empty'>",
     "output_type": "error",
     "traceback": [
      "\u001b[1;31m---------------------------------------------------------------------------\u001b[0m",
      "\u001b[1;31mInvalidArgumentError\u001b[0m                      Traceback (most recent call last)",
      "Cell \u001b[1;32mIn[5], line 1\u001b[0m\n\u001b[1;32m----> 1\u001b[0m samples \u001b[38;5;241m=\u001b[39m approximator\u001b[38;5;241m.\u001b[39msample((\u001b[38;5;241m128\u001b[39m,\u001b[38;5;241m2\u001b[39m), \u001b[38;5;28mnext\u001b[39m(\u001b[38;5;28miter\u001b[39m(dataset)))\n",
      "File \u001b[1;32mc:\\Users\\grajec\\Desktop\\Code Projects\\BayesFlow\\BayesFlow\\examples\\..\\bayesflow\\approximators\\base_approximator.py:49\u001b[0m, in \u001b[0;36mBaseApproximator.sample\u001b[1;34m(self, batch_shape, data, numpy)\u001b[0m\n\u001b[0;32m     46\u001b[0m \u001b[38;5;28;01mif\u001b[39;00m inference_conditions \u001b[38;5;129;01mis\u001b[39;00m \u001b[38;5;129;01mnot\u001b[39;00m \u001b[38;5;28;01mNone\u001b[39;00m \u001b[38;5;129;01mand\u001b[39;00m keras\u001b[38;5;241m.\u001b[39mops\u001b[38;5;241m.\u001b[39mndim(inference_conditions) \u001b[38;5;241m==\u001b[39m \u001b[38;5;241m2\u001b[39m:\n\u001b[0;32m     47\u001b[0m     inference_conditions \u001b[38;5;241m=\u001b[39m expand_tile(inference_conditions, axis\u001b[38;5;241m=\u001b[39m\u001b[38;5;241m1\u001b[39m, n\u001b[38;5;241m=\u001b[39mnum_samples)\n\u001b[1;32m---> 49\u001b[0m samples \u001b[38;5;241m=\u001b[39m \u001b[38;5;28mself\u001b[39m\u001b[38;5;241m.\u001b[39minference_network\u001b[38;5;241m.\u001b[39msample(batch_shape, conditions\u001b[38;5;241m=\u001b[39minference_conditions)\n\u001b[0;32m     50\u001b[0m samples \u001b[38;5;241m=\u001b[39m \u001b[38;5;28mself\u001b[39m\u001b[38;5;241m.\u001b[39mconfigurator\u001b[38;5;241m.\u001b[39mdeconfigure(samples)\n\u001b[0;32m     52\u001b[0m \u001b[38;5;28;01mif\u001b[39;00m \u001b[38;5;28mself\u001b[39m\u001b[38;5;241m.\u001b[39msummary_network \u001b[38;5;129;01mis\u001b[39;00m \u001b[38;5;129;01mnot\u001b[39;00m \u001b[38;5;28;01mNone\u001b[39;00m:\n",
      "File \u001b[1;32mc:\\Users\\grajec\\Desktop\\Code Projects\\BayesFlow\\BayesFlow\\examples\\..\\bayesflow\\networks\\inference_network.py:31\u001b[0m, in \u001b[0;36mInferenceNetwork.sample\u001b[1;34m(self, batch_shape, conditions, **kwargs)\u001b[0m\n\u001b[0;32m     29\u001b[0m \u001b[38;5;28;01mdef\u001b[39;00m \u001b[38;5;21msample\u001b[39m(\u001b[38;5;28mself\u001b[39m, batch_shape: Shape, conditions: Tensor \u001b[38;5;241m=\u001b[39m \u001b[38;5;28;01mNone\u001b[39;00m, \u001b[38;5;241m*\u001b[39m\u001b[38;5;241m*\u001b[39mkwargs) \u001b[38;5;241m-\u001b[39m\u001b[38;5;241m>\u001b[39m Tensor:\n\u001b[0;32m     30\u001b[0m     samples \u001b[38;5;241m=\u001b[39m \u001b[38;5;28mself\u001b[39m\u001b[38;5;241m.\u001b[39mbase_distribution\u001b[38;5;241m.\u001b[39msample(batch_shape)\n\u001b[1;32m---> 31\u001b[0m     samples \u001b[38;5;241m=\u001b[39m \u001b[38;5;28mself\u001b[39m(samples, conditions\u001b[38;5;241m=\u001b[39mconditions, inverse\u001b[38;5;241m=\u001b[39m\u001b[38;5;28;01mTrue\u001b[39;00m, density\u001b[38;5;241m=\u001b[39m\u001b[38;5;28;01mFalse\u001b[39;00m, \u001b[38;5;241m*\u001b[39m\u001b[38;5;241m*\u001b[39mkwargs)\n\u001b[0;32m     32\u001b[0m     \u001b[38;5;28;01mreturn\u001b[39;00m samples\n",
      "File \u001b[1;32mc:\\Users\\grajec\\miniconda3\\envs\\bayesflow\\Lib\\site-packages\\keras\\src\\utils\\traceback_utils.py:122\u001b[0m, in \u001b[0;36mfilter_traceback.<locals>.error_handler\u001b[1;34m(*args, **kwargs)\u001b[0m\n\u001b[0;32m    119\u001b[0m     filtered_tb \u001b[38;5;241m=\u001b[39m _process_traceback_frames(e\u001b[38;5;241m.\u001b[39m__traceback__)\n\u001b[0;32m    120\u001b[0m     \u001b[38;5;66;03m# To get the full stack trace, call:\u001b[39;00m\n\u001b[0;32m    121\u001b[0m     \u001b[38;5;66;03m# `keras.config.disable_traceback_filtering()`\u001b[39;00m\n\u001b[1;32m--> 122\u001b[0m     \u001b[38;5;28;01mraise\u001b[39;00m e\u001b[38;5;241m.\u001b[39mwith_traceback(filtered_tb) \u001b[38;5;28;01mfrom\u001b[39;00m \u001b[38;5;28;01mNone\u001b[39;00m\n\u001b[0;32m    123\u001b[0m \u001b[38;5;28;01mfinally\u001b[39;00m:\n\u001b[0;32m    124\u001b[0m     \u001b[38;5;28;01mdel\u001b[39;00m filtered_tb\n",
      "File \u001b[1;32mc:\\Users\\grajec\\Desktop\\Code Projects\\BayesFlow\\BayesFlow\\examples\\..\\bayesflow\\networks\\cif\\cif.py:25\u001b[0m, in \u001b[0;36mCIF.call\u001b[1;34m(self, xz, conditions, inverse, **kwargs)\u001b[0m\n\u001b[0;32m     23\u001b[0m \u001b[38;5;28;01mdef\u001b[39;00m \u001b[38;5;21mcall\u001b[39m(\u001b[38;5;28mself\u001b[39m, xz, conditions, inverse\u001b[38;5;241m=\u001b[39m\u001b[38;5;28;01mFalse\u001b[39;00m, \u001b[38;5;241m*\u001b[39m\u001b[38;5;241m*\u001b[39mkwargs):\n\u001b[0;32m     24\u001b[0m     \u001b[38;5;28;01mif\u001b[39;00m inverse:\n\u001b[1;32m---> 25\u001b[0m         \u001b[38;5;28;01mreturn\u001b[39;00m \u001b[38;5;28mself\u001b[39m\u001b[38;5;241m.\u001b[39m_inverse(xz, conditions, \u001b[38;5;241m*\u001b[39m\u001b[38;5;241m*\u001b[39mkwargs)\n\u001b[0;32m     26\u001b[0m     \u001b[38;5;28;01mreturn\u001b[39;00m \u001b[38;5;28mself\u001b[39m\u001b[38;5;241m.\u001b[39m_forward(xz, conditions, \u001b[38;5;241m*\u001b[39m\u001b[38;5;241m*\u001b[39mkwargs)\n",
      "File \u001b[1;32mc:\\Users\\grajec\\Desktop\\Code Projects\\BayesFlow\\BayesFlow\\examples\\..\\bayesflow\\networks\\cif\\cif.py:61\u001b[0m, in \u001b[0;36mCIF._inverse\u001b[1;34m(self, z, conditions, density, **kwargs)\u001b[0m\n\u001b[0;32m     59\u001b[0m \u001b[38;5;66;03m# Compute inverse of f(z; u)\u001b[39;00m\n\u001b[0;32m     60\u001b[0m phi_u \u001b[38;5;241m=\u001b[39m \u001b[38;5;28mself\u001b[39m\u001b[38;5;241m.\u001b[39mfeature_net(u)\n\u001b[1;32m---> 61\u001b[0m x, log_px \u001b[38;5;241m=\u001b[39m \u001b[38;5;28mself\u001b[39m\u001b[38;5;241m.\u001b[39mflow(z, conditions\u001b[38;5;241m=\u001b[39mphi_u, inverse\u001b[38;5;241m=\u001b[39m\u001b[38;5;28;01mTrue\u001b[39;00m, density\u001b[38;5;241m=\u001b[39m\u001b[38;5;28;01mTrue\u001b[39;00m)\n\u001b[0;32m     63\u001b[0m \u001b[38;5;66;03m# Predict q(u|x)\u001b[39;00m\n\u001b[0;32m     64\u001b[0m phi_x \u001b[38;5;241m=\u001b[39m \u001b[38;5;28mself\u001b[39m\u001b[38;5;241m.\u001b[39mfeature_net(x)\n",
      "File \u001b[1;32mc:\\Users\\grajec\\Desktop\\Code Projects\\BayesFlow\\BayesFlow\\examples\\..\\bayesflow\\networks\\coupling_flow\\coupling_flow.py:72\u001b[0m, in \u001b[0;36mCouplingFlow.call\u001b[1;34m(self, xz, conditions, inverse, **kwargs)\u001b[0m\n\u001b[0;32m     68\u001b[0m \u001b[38;5;28;01mdef\u001b[39;00m \u001b[38;5;21mcall\u001b[39m(\n\u001b[0;32m     69\u001b[0m     \u001b[38;5;28mself\u001b[39m, xz: Tensor, conditions: Tensor \u001b[38;5;241m=\u001b[39m \u001b[38;5;28;01mNone\u001b[39;00m, inverse: \u001b[38;5;28mbool\u001b[39m \u001b[38;5;241m=\u001b[39m \u001b[38;5;28;01mFalse\u001b[39;00m, \u001b[38;5;241m*\u001b[39m\u001b[38;5;241m*\u001b[39mkwargs\n\u001b[0;32m     70\u001b[0m ) \u001b[38;5;241m-\u001b[39m\u001b[38;5;241m>\u001b[39m Tensor \u001b[38;5;241m|\u001b[39m \u001b[38;5;28mtuple\u001b[39m[Tensor, Tensor]:\n\u001b[0;32m     71\u001b[0m     \u001b[38;5;28;01mif\u001b[39;00m inverse:\n\u001b[1;32m---> 72\u001b[0m         \u001b[38;5;28;01mreturn\u001b[39;00m \u001b[38;5;28mself\u001b[39m\u001b[38;5;241m.\u001b[39m_inverse(xz, conditions\u001b[38;5;241m=\u001b[39mconditions, \u001b[38;5;241m*\u001b[39m\u001b[38;5;241m*\u001b[39mkwargs)\n\u001b[0;32m     73\u001b[0m     \u001b[38;5;28;01mreturn\u001b[39;00m \u001b[38;5;28mself\u001b[39m\u001b[38;5;241m.\u001b[39m_forward(xz, conditions\u001b[38;5;241m=\u001b[39mconditions, \u001b[38;5;241m*\u001b[39m\u001b[38;5;241m*\u001b[39mkwargs)\n",
      "File \u001b[1;32mc:\\Users\\grajec\\Desktop\\Code Projects\\BayesFlow\\BayesFlow\\examples\\..\\bayesflow\\networks\\coupling_flow\\coupling_flow.py:97\u001b[0m, in \u001b[0;36mCouplingFlow._inverse\u001b[1;34m(self, z, conditions, density, **kwargs)\u001b[0m\n\u001b[0;32m     95\u001b[0m log_det \u001b[38;5;241m=\u001b[39m keras\u001b[38;5;241m.\u001b[39mops\u001b[38;5;241m.\u001b[39mzeros(keras\u001b[38;5;241m.\u001b[39mops\u001b[38;5;241m.\u001b[39mshape(z)[:\u001b[38;5;241m-\u001b[39m\u001b[38;5;241m1\u001b[39m])\n\u001b[0;32m     96\u001b[0m \u001b[38;5;28;01mfor\u001b[39;00m layer \u001b[38;5;129;01min\u001b[39;00m \u001b[38;5;28mreversed\u001b[39m(\u001b[38;5;28mself\u001b[39m\u001b[38;5;241m.\u001b[39minvertible_layers):\n\u001b[1;32m---> 97\u001b[0m     x, det \u001b[38;5;241m=\u001b[39m layer(x, conditions\u001b[38;5;241m=\u001b[39mconditions, inverse\u001b[38;5;241m=\u001b[39m\u001b[38;5;28;01mTrue\u001b[39;00m, \u001b[38;5;241m*\u001b[39m\u001b[38;5;241m*\u001b[39mkwargs)\n\u001b[0;32m     98\u001b[0m     log_det \u001b[38;5;241m+\u001b[39m\u001b[38;5;241m=\u001b[39m det\n\u001b[0;32m    100\u001b[0m \u001b[38;5;28;01mif\u001b[39;00m density:\n",
      "File \u001b[1;32mc:\\Users\\grajec\\Desktop\\Code Projects\\BayesFlow\\BayesFlow\\examples\\..\\bayesflow\\networks\\coupling_flow\\couplings\\dual_coupling.py:33\u001b[0m, in \u001b[0;36mDualCoupling.call\u001b[1;34m(self, xz, conditions, inverse, **kwargs)\u001b[0m\n\u001b[0;32m     31\u001b[0m \u001b[38;5;28;01mdef\u001b[39;00m \u001b[38;5;21mcall\u001b[39m(\u001b[38;5;28mself\u001b[39m, xz: Tensor, conditions: Tensor \u001b[38;5;241m=\u001b[39m \u001b[38;5;28;01mNone\u001b[39;00m, inverse: \u001b[38;5;28mbool\u001b[39m \u001b[38;5;241m=\u001b[39m \u001b[38;5;28;01mFalse\u001b[39;00m, \u001b[38;5;241m*\u001b[39m\u001b[38;5;241m*\u001b[39mkwargs) \u001b[38;5;241m-\u001b[39m\u001b[38;5;241m>\u001b[39m (Tensor, Tensor):\n\u001b[0;32m     32\u001b[0m     \u001b[38;5;28;01mif\u001b[39;00m inverse:\n\u001b[1;32m---> 33\u001b[0m         \u001b[38;5;28;01mreturn\u001b[39;00m \u001b[38;5;28mself\u001b[39m\u001b[38;5;241m.\u001b[39m_inverse(xz, conditions\u001b[38;5;241m=\u001b[39mconditions, \u001b[38;5;241m*\u001b[39m\u001b[38;5;241m*\u001b[39mkwargs)\n\u001b[0;32m     34\u001b[0m     \u001b[38;5;28;01mreturn\u001b[39;00m \u001b[38;5;28mself\u001b[39m\u001b[38;5;241m.\u001b[39m_forward(xz, conditions\u001b[38;5;241m=\u001b[39mconditions, \u001b[38;5;241m*\u001b[39m\u001b[38;5;241m*\u001b[39mkwargs)\n",
      "File \u001b[1;32mc:\\Users\\grajec\\Desktop\\Code Projects\\BayesFlow\\BayesFlow\\examples\\..\\bayesflow\\networks\\coupling_flow\\couplings\\dual_coupling.py:50\u001b[0m, in \u001b[0;36mDualCoupling._inverse\u001b[1;34m(self, z, conditions, **kwargs)\u001b[0m\n\u001b[0;32m     48\u001b[0m \u001b[38;5;250m\u001b[39m\u001b[38;5;124;03m\"\"\"Transform (g(x1; f(x2; x1)), f(x2; x1)) -> (x1, x2)\"\"\"\u001b[39;00m\n\u001b[0;32m     49\u001b[0m z1, z2 \u001b[38;5;241m=\u001b[39m z[\u001b[38;5;241m.\u001b[39m\u001b[38;5;241m.\u001b[39m\u001b[38;5;241m.\u001b[39m, : \u001b[38;5;28mself\u001b[39m\u001b[38;5;241m.\u001b[39mpivot], z[\u001b[38;5;241m.\u001b[39m\u001b[38;5;241m.\u001b[39m\u001b[38;5;241m.\u001b[39m, \u001b[38;5;28mself\u001b[39m\u001b[38;5;241m.\u001b[39mpivot :]\n\u001b[1;32m---> 50\u001b[0m (z2, z1), log_det2 \u001b[38;5;241m=\u001b[39m \u001b[38;5;28mself\u001b[39m\u001b[38;5;241m.\u001b[39mcoupling2(z2, z1, conditions\u001b[38;5;241m=\u001b[39mconditions, inverse\u001b[38;5;241m=\u001b[39m\u001b[38;5;28;01mTrue\u001b[39;00m, \u001b[38;5;241m*\u001b[39m\u001b[38;5;241m*\u001b[39mkwargs)\n\u001b[0;32m     51\u001b[0m (x1, x2), log_det1 \u001b[38;5;241m=\u001b[39m \u001b[38;5;28mself\u001b[39m\u001b[38;5;241m.\u001b[39mcoupling1(z1, z2, conditions\u001b[38;5;241m=\u001b[39mconditions, inverse\u001b[38;5;241m=\u001b[39m\u001b[38;5;28;01mTrue\u001b[39;00m, \u001b[38;5;241m*\u001b[39m\u001b[38;5;241m*\u001b[39mkwargs)\n\u001b[0;32m     53\u001b[0m x \u001b[38;5;241m=\u001b[39m keras\u001b[38;5;241m.\u001b[39mops\u001b[38;5;241m.\u001b[39mconcatenate([x1, x2], axis\u001b[38;5;241m=\u001b[39m\u001b[38;5;241m-\u001b[39m\u001b[38;5;241m1\u001b[39m)\n",
      "File \u001b[1;32mc:\\Users\\grajec\\Desktop\\Code Projects\\BayesFlow\\BayesFlow\\examples\\..\\bayesflow\\networks\\coupling_flow\\couplings\\single_coupling.py:46\u001b[0m, in \u001b[0;36mSingleCoupling.call\u001b[1;34m(self, x1, x2, conditions, inverse, **kwargs)\u001b[0m\n\u001b[0;32m     42\u001b[0m \u001b[38;5;28;01mdef\u001b[39;00m \u001b[38;5;21mcall\u001b[39m(\n\u001b[0;32m     43\u001b[0m     \u001b[38;5;28mself\u001b[39m, x1: Tensor, x2: Tensor, conditions: Tensor \u001b[38;5;241m=\u001b[39m \u001b[38;5;28;01mNone\u001b[39;00m, inverse: \u001b[38;5;28mbool\u001b[39m \u001b[38;5;241m=\u001b[39m \u001b[38;5;28;01mFalse\u001b[39;00m, \u001b[38;5;241m*\u001b[39m\u001b[38;5;241m*\u001b[39mkwargs\n\u001b[0;32m     44\u001b[0m ) \u001b[38;5;241m-\u001b[39m\u001b[38;5;241m>\u001b[39m ((Tensor, Tensor), Tensor):\n\u001b[0;32m     45\u001b[0m     \u001b[38;5;28;01mif\u001b[39;00m inverse:\n\u001b[1;32m---> 46\u001b[0m         \u001b[38;5;28;01mreturn\u001b[39;00m \u001b[38;5;28mself\u001b[39m\u001b[38;5;241m.\u001b[39m_inverse(x1, x2, conditions\u001b[38;5;241m=\u001b[39mconditions, \u001b[38;5;241m*\u001b[39m\u001b[38;5;241m*\u001b[39mkwargs)\n\u001b[0;32m     47\u001b[0m     \u001b[38;5;28;01mreturn\u001b[39;00m \u001b[38;5;28mself\u001b[39m\u001b[38;5;241m.\u001b[39m_forward(x1, x2, conditions\u001b[38;5;241m=\u001b[39mconditions, \u001b[38;5;241m*\u001b[39m\u001b[38;5;241m*\u001b[39mkwargs)\n",
      "File \u001b[1;32mc:\\Users\\grajec\\Desktop\\Code Projects\\BayesFlow\\BayesFlow\\examples\\..\\bayesflow\\networks\\coupling_flow\\couplings\\single_coupling.py:60\u001b[0m, in \u001b[0;36mSingleCoupling._inverse\u001b[1;34m(self, z1, z2, conditions, **kwargs)\u001b[0m\n\u001b[0;32m     58\u001b[0m \u001b[38;5;250m\u001b[39m\u001b[38;5;124;03m\"\"\"Transform (x1, f(x2; x1)) -> (x1, x2)\"\"\"\u001b[39;00m\n\u001b[0;32m     59\u001b[0m x1 \u001b[38;5;241m=\u001b[39m z1\n\u001b[1;32m---> 60\u001b[0m parameters \u001b[38;5;241m=\u001b[39m \u001b[38;5;28mself\u001b[39m\u001b[38;5;241m.\u001b[39mget_parameters(x1, conditions\u001b[38;5;241m=\u001b[39mconditions, \u001b[38;5;241m*\u001b[39m\u001b[38;5;241m*\u001b[39mkwargs)\n\u001b[0;32m     61\u001b[0m x2, log_det \u001b[38;5;241m=\u001b[39m \u001b[38;5;28mself\u001b[39m\u001b[38;5;241m.\u001b[39mtransform(z2, parameters\u001b[38;5;241m=\u001b[39mparameters, inverse\u001b[38;5;241m=\u001b[39m\u001b[38;5;28;01mTrue\u001b[39;00m)\n\u001b[0;32m     63\u001b[0m \u001b[38;5;28;01mreturn\u001b[39;00m (x1, x2), log_det\n",
      "File \u001b[1;32mc:\\Users\\grajec\\Desktop\\Code Projects\\BayesFlow\\BayesFlow\\examples\\..\\bayesflow\\networks\\coupling_flow\\couplings\\single_coupling.py:67\u001b[0m, in \u001b[0;36mSingleCoupling.get_parameters\u001b[1;34m(self, x, conditions, **kwargs)\u001b[0m\n\u001b[0;32m     65\u001b[0m \u001b[38;5;28;01mdef\u001b[39;00m \u001b[38;5;21mget_parameters\u001b[39m(\u001b[38;5;28mself\u001b[39m, x: Tensor, conditions: Tensor \u001b[38;5;241m=\u001b[39m \u001b[38;5;28;01mNone\u001b[39;00m, \u001b[38;5;241m*\u001b[39m\u001b[38;5;241m*\u001b[39mkwargs) \u001b[38;5;241m-\u001b[39m\u001b[38;5;241m>\u001b[39m \u001b[38;5;28mdict\u001b[39m[\u001b[38;5;28mstr\u001b[39m, Tensor]:\n\u001b[0;32m     66\u001b[0m     \u001b[38;5;28;01mif\u001b[39;00m conditions \u001b[38;5;129;01mis\u001b[39;00m \u001b[38;5;129;01mnot\u001b[39;00m \u001b[38;5;28;01mNone\u001b[39;00m:\n\u001b[1;32m---> 67\u001b[0m         x \u001b[38;5;241m=\u001b[39m keras\u001b[38;5;241m.\u001b[39mops\u001b[38;5;241m.\u001b[39mconcatenate([x, conditions], axis\u001b[38;5;241m=\u001b[39m\u001b[38;5;241m-\u001b[39m\u001b[38;5;241m1\u001b[39m)\n\u001b[0;32m     69\u001b[0m     parameters \u001b[38;5;241m=\u001b[39m \u001b[38;5;28mself\u001b[39m\u001b[38;5;241m.\u001b[39moutput_projector(\u001b[38;5;28mself\u001b[39m\u001b[38;5;241m.\u001b[39mnetwork(x, \u001b[38;5;241m*\u001b[39m\u001b[38;5;241m*\u001b[39mkwargs))\n\u001b[0;32m     70\u001b[0m     parameters \u001b[38;5;241m=\u001b[39m \u001b[38;5;28mself\u001b[39m\u001b[38;5;241m.\u001b[39mtransform\u001b[38;5;241m.\u001b[39msplit_parameters(parameters)\n",
      "\u001b[1;31mInvalidArgumentError\u001b[0m: Exception encountered when calling SingleCoupling.call().\n\n\u001b[1m{{function_node __wrapped__ConcatV2_N_2_device_/job:localhost/replica:0/task:0/device:CPU:0}} ConcatOp : Ranks of all input tensors should match: shape[0] = [128,2,1] vs. shape[1] = [128,2,2,2] [Op:ConcatV2] name: concat\u001b[0m\n\nArguments received by SingleCoupling.call():\n  • x1=tf.Tensor(shape=(128, 2, 1), dtype=float32)\n  • x2=tf.Tensor(shape=(128, 2, 1), dtype=float32)\n  • conditions=tf.Tensor(shape=(128, 2, 2, 2), dtype=float32)\n  • inverse=True\n  • kwargs=<class 'inspect._empty'>"
     ]
    }
   ],
   "source": [
    "samples = approximator.sample((128,2), next(iter(dataset)))"
   ]
  }
 ],
 "metadata": {
  "kernelspec": {
   "display_name": "bayesflow",
   "language": "python",
   "name": "python3"
  },
  "language_info": {
   "codemirror_mode": {
    "name": "ipython",
    "version": 3
   },
   "file_extension": ".py",
   "mimetype": "text/x-python",
   "name": "python",
   "nbconvert_exporter": "python",
   "pygments_lexer": "ipython3",
   "version": "3.12.3"
  }
 },
 "nbformat": 4,
 "nbformat_minor": 2
}
